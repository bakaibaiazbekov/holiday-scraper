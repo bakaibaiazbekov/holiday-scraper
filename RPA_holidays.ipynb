{
 "cells": [
  {
   "cell_type": "code",
   "execution_count": 1,
   "metadata": {},
   "outputs": [],
   "source": [
    "from selenium import webdriver\n",
    "from selenium.webdriver.common.keys import Keys\n",
    "from selenium.webdriver.support.ui import Select\n",
    "\n",
    "import pandas as pd\n",
    "import numpy as np"
   ]
  },
  {
   "cell_type": "code",
   "execution_count": 2,
   "metadata": {},
   "outputs": [],
   "source": [
    "chromedriver = 'C:/Users/Q500599/Desktop/Automation/chromedriver.exe'\n",
    "driver = webdriver.Chrome(chromedriver)"
   ]
  },
  {
   "cell_type": "code",
   "execution_count": 5,
   "metadata": {},
   "outputs": [],
   "source": [
    "url = 'https://www.schulferien.org/Kalender_mit_Ferien/kalender_2010_ferien_Bayern.html'"
   ]
  },
  {
   "cell_type": "code",
   "execution_count": 6,
   "metadata": {},
   "outputs": [],
   "source": [
    "driver.get(url)"
   ]
  },
  {
   "cell_type": "code",
   "execution_count": 9,
   "metadata": {},
   "outputs": [
    {
     "data": {
      "text/plain": [
       "'2'"
      ]
     },
     "execution_count": 9,
     "metadata": {},
     "output_type": "execute_result"
    }
   ],
   "source": [
    "driver.find_element_by_xpath('//*[@id=\"eos_tinyMonthView82010_maintable\"]/tbody/tr[2]/td[2]').text"
   ]
  },
  {
   "cell_type": "code",
   "execution_count": null,
   "metadata": {},
   "outputs": [],
   "source": []
  },
  {
   "cell_type": "code",
   "execution_count": 29,
   "metadata": {},
   "outputs": [],
   "source": [
    "holiday = []"
   ]
  },
  {
   "cell_type": "code",
   "execution_count": 30,
   "metadata": {},
   "outputs": [
    {
     "name": "stdout",
     "output_type": "stream",
     "text": [
      "2020\n"
     ]
    }
   ],
   "source": [
    "for i in range(2020,2021):\n",
    "    print(i)\n",
    "    driver.get('https://www.ferienkalender.com/ferien_deutschland/Bayern/'+str(i)+'-ferien-bayern.htm')\n",
    "    \n",
    "    holiday.append(driver.find_element_by_xpath('//*[@id=\"Neujahr\"]/td[2]').text)\n",
    "    holiday.append(driver.find_element_by_xpath('//*[@id=\"Heilige Drei Könige\"]/td[2]').text)\n",
    "    holiday.append(driver.find_element_by_xpath('//*[@id=\"Karfreitag\"]/td[2]').text)\n",
    "    holiday.append(driver.find_element_by_xpath('//*[@id=\"Ostermontag\"]/td[2]').text)\n",
    "    holiday.append(driver.find_element_by_xpath('//*[@id=\"Tag der Arbeit\"]/td[2]').text)\n",
    "    holiday.append(driver.find_element_by_xpath('//*[@id=\"Christi Himmelfahrt\"]/td[2]').text)\n",
    "    holiday.append(driver.find_element_by_xpath('//*[@id=\"Pfingstmontag\"]/td[2]').text)\n",
    "    holiday.append(driver.find_element_by_xpath('//*[@id=\"Fronleichnam\"]/td[2]').text)\n",
    "    holiday.append(driver.find_element_by_xpath('//*[@id=\"Mariä Himmelfahrt\"]/td[2]').text)\n",
    "    holiday.append(driver.find_element_by_xpath('//*[@id=\"Tag der Deutschen Einheit\"]/td[2]').text)\n",
    "    holiday.append(driver.find_element_by_xpath('//*[@id=\"Allerheiligen\"]/td[2]').text)\n",
    "    holiday.append(driver.find_element_by_xpath('//*[@id=\"1. Weihnachtsfeiertag\"]/td[2]').text)\n",
    "    holiday.append(driver.find_element_by_xpath('//*[@id=\"2. Weihnachtsfeiertag\"]/td[2]').text)\n",
    "\n",
    "    "
   ]
  },
  {
   "cell_type": "code",
   "execution_count": 31,
   "metadata": {},
   "outputs": [
    {
     "data": {
      "text/plain": [
       "['Mittwoch 01.01.2020',\n",
       " 'Montag 06.01.2020',\n",
       " 'Freitag 10.04.2020',\n",
       " 'Montag 13.04.2020',\n",
       " 'Freitag 01.05.2020',\n",
       " 'Donnerstag 21.05.2020',\n",
       " 'Montag 01.06.2020',\n",
       " 'Donnerstag 11.06.2020',\n",
       " 'Samstag 15.08.2020',\n",
       " 'Samstag 03.10.2020',\n",
       " 'Sonntag 01.11.2020',\n",
       " 'Freitag 25.12.2020',\n",
       " 'Samstag 26.12.2020']"
      ]
     },
     "execution_count": 31,
     "metadata": {},
     "output_type": "execute_result"
    }
   ],
   "source": [
    "holiday"
   ]
  },
  {
   "cell_type": "code",
   "execution_count": 32,
   "metadata": {},
   "outputs": [],
   "source": [
    "df = pd.DataFrame(np.array(holiday), columns = list(\"h\"))"
   ]
  },
  {
   "cell_type": "code",
   "execution_count": 33,
   "metadata": {},
   "outputs": [
    {
     "data": {
      "text/html": [
       "<div>\n",
       "<style scoped>\n",
       "    .dataframe tbody tr th:only-of-type {\n",
       "        vertical-align: middle;\n",
       "    }\n",
       "\n",
       "    .dataframe tbody tr th {\n",
       "        vertical-align: top;\n",
       "    }\n",
       "\n",
       "    .dataframe thead th {\n",
       "        text-align: right;\n",
       "    }\n",
       "</style>\n",
       "<table border=\"1\" class=\"dataframe\">\n",
       "  <thead>\n",
       "    <tr style=\"text-align: right;\">\n",
       "      <th></th>\n",
       "      <th>h</th>\n",
       "    </tr>\n",
       "  </thead>\n",
       "  <tbody>\n",
       "    <tr>\n",
       "      <td>0</td>\n",
       "      <td>Mittwoch 01.01.2020</td>\n",
       "    </tr>\n",
       "    <tr>\n",
       "      <td>1</td>\n",
       "      <td>Montag 06.01.2020</td>\n",
       "    </tr>\n",
       "    <tr>\n",
       "      <td>2</td>\n",
       "      <td>Freitag 10.04.2020</td>\n",
       "    </tr>\n",
       "    <tr>\n",
       "      <td>3</td>\n",
       "      <td>Montag 13.04.2020</td>\n",
       "    </tr>\n",
       "    <tr>\n",
       "      <td>4</td>\n",
       "      <td>Freitag 01.05.2020</td>\n",
       "    </tr>\n",
       "    <tr>\n",
       "      <td>5</td>\n",
       "      <td>Donnerstag 21.05.2020</td>\n",
       "    </tr>\n",
       "    <tr>\n",
       "      <td>6</td>\n",
       "      <td>Montag 01.06.2020</td>\n",
       "    </tr>\n",
       "    <tr>\n",
       "      <td>7</td>\n",
       "      <td>Donnerstag 11.06.2020</td>\n",
       "    </tr>\n",
       "    <tr>\n",
       "      <td>8</td>\n",
       "      <td>Samstag 15.08.2020</td>\n",
       "    </tr>\n",
       "    <tr>\n",
       "      <td>9</td>\n",
       "      <td>Samstag 03.10.2020</td>\n",
       "    </tr>\n",
       "    <tr>\n",
       "      <td>10</td>\n",
       "      <td>Sonntag 01.11.2020</td>\n",
       "    </tr>\n",
       "    <tr>\n",
       "      <td>11</td>\n",
       "      <td>Freitag 25.12.2020</td>\n",
       "    </tr>\n",
       "    <tr>\n",
       "      <td>12</td>\n",
       "      <td>Samstag 26.12.2020</td>\n",
       "    </tr>\n",
       "  </tbody>\n",
       "</table>\n",
       "</div>"
      ],
      "text/plain": [
       "                        h\n",
       "0     Mittwoch 01.01.2020\n",
       "1       Montag 06.01.2020\n",
       "2      Freitag 10.04.2020\n",
       "3       Montag 13.04.2020\n",
       "4      Freitag 01.05.2020\n",
       "5   Donnerstag 21.05.2020\n",
       "6       Montag 01.06.2020\n",
       "7   Donnerstag 11.06.2020\n",
       "8      Samstag 15.08.2020\n",
       "9      Samstag 03.10.2020\n",
       "10     Sonntag 01.11.2020\n",
       "11     Freitag 25.12.2020\n",
       "12     Samstag 26.12.2020"
      ]
     },
     "execution_count": 33,
     "metadata": {},
     "output_type": "execute_result"
    }
   ],
   "source": [
    "df"
   ]
  },
  {
   "cell_type": "code",
   "execution_count": 34,
   "metadata": {},
   "outputs": [],
   "source": [
    "df['Date'] = df['h'].str.strip().str[-10:]\n"
   ]
  },
  {
   "cell_type": "code",
   "execution_count": 35,
   "metadata": {},
   "outputs": [],
   "source": [
    "df['Date'] = pd.to_datetime(df['Date'])"
   ]
  },
  {
   "cell_type": "code",
   "execution_count": 36,
   "metadata": {},
   "outputs": [],
   "source": [
    "df['month'] = df['Date'].dt.month"
   ]
  },
  {
   "cell_type": "code",
   "execution_count": 37,
   "metadata": {},
   "outputs": [],
   "source": [
    "df['year'] = df['Date'].dt.year"
   ]
  },
  {
   "cell_type": "code",
   "execution_count": 38,
   "metadata": {},
   "outputs": [],
   "source": [
    "df_holiday = df.groupby(['year','month']).count().reset_index()"
   ]
  },
  {
   "cell_type": "code",
   "execution_count": 39,
   "metadata": {},
   "outputs": [],
   "source": [
    "del df_holiday['Date']"
   ]
  },
  {
   "cell_type": "code",
   "execution_count": 40,
   "metadata": {},
   "outputs": [],
   "source": [
    "df_holiday_2020=df_holiday"
   ]
  },
  {
   "cell_type": "code",
   "execution_count": null,
   "metadata": {},
   "outputs": [],
   "source": []
  },
  {
   "cell_type": "code",
   "execution_count": 41,
   "metadata": {},
   "outputs": [
    {
     "name": "stdout",
     "output_type": "stream",
     "text": [
      "Stored 'df_holiday_2020' (DataFrame)\n"
     ]
    }
   ],
   "source": [
    "%store df_holiday_2020"
   ]
  },
  {
   "cell_type": "code",
   "execution_count": null,
   "metadata": {},
   "outputs": [],
   "source": []
  }
 ],
 "metadata": {
  "kernelspec": {
   "display_name": "Python 3",
   "language": "python",
   "name": "python3"
  },
  "language_info": {
   "codemirror_mode": {
    "name": "ipython",
    "version": 3
   },
   "file_extension": ".py",
   "mimetype": "text/x-python",
   "name": "python",
   "nbconvert_exporter": "python",
   "pygments_lexer": "ipython3",
   "version": "3.7.4"
  }
 },
 "nbformat": 4,
 "nbformat_minor": 2
}
